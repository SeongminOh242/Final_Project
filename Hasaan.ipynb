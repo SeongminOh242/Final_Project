{
 "cells": [
  {
   "cell_type": "markdown",
   "metadata": {},
   "source": [
    "# Playground Analysis by Neighborhood "
   ]
  },
  {
   "cell_type": "markdown",
   "metadata": {},
   "source": [
    "In the provided code, it uses the Pandas and Matplotlib libraries to visualize our group's data from a CSV file named playgrounds.csv. The primary objective of the code is to analyze the distribution of playgrounds across different neighborhoods. It accomplishes this by iterating through the DataFrame to count the number of playgrounds in each neighborhood. This count is stored in a dictionary named neighborhood, with the keys representing neighborhood names and values indicating the corresponding playground counts. \n",
    "\n",
    "This dictionary is then sorted in descending order based on playground counts, and the top 10 neighborhoods with the highest playground counts are extracted and visualized using a bar plot created with Matplotlib. The x-axis displays the names of the top 10 neighborhoods, while the y-axis represents the count of playgrounds, with the x-axis labels rotated by 90 degrees for readability.\n",
    "\n",
    "\n",
    "\n",
    "\n"
   ]
  },
  {
   "cell_type": "code",
   "execution_count": 11,
   "metadata": {},
   "outputs": [
    {
     "data": {
      "text/plain": [
       "([0, 1, 2, 3, 4, 5, 6, 7, 8, 9], <a list of 10 Text major ticklabel objects>)"
      ]
     },
     "execution_count": 11,
     "metadata": {},
     "output_type": "execute_result"
    },
    {
     "data": {
      "image/png": "[encoded data removed]",
      "text/plain": [
       "<Figure size 432x288 with 1 Axes>"
      ]
     },
     "metadata": {
      "needs_background": "light"
     },
     "output_type": "display_data"
    }
   ],
   "source": [
    "import pandas as pd\n",
    "import matplotlib.pyplot as plt\n",
    "import operator\n",
    "\n",
    "# Read the CSV file into a DataFrame\n",
    "empy = pd.read_csv(\"playgrounds.csv\")\n",
    "\n",
    "neighborhood = {}\n",
    "\n",
    "for index, row in empy.iterrows():\n",
    "    \n",
    "    if row[\"neighborhood\"] in neighborhood:\n",
    "        neighborhood[row[\"neighborhood\"]] += 1\n",
    "    else:\n",
    "        neighborhood[row[\"neighborhood\"]] = 1\n",
    "        \n",
    "\n",
    "\n",
    "highest = dict(sorted(neighborhood.items(), key=operator.itemgetter(1), reverse=True))\n",
    "\n",
    "\n",
    "plt.bar(list(neighborhood.keys())[:10], list(neighborhood.values())[:10])\n",
    "plt.xticks(rotation=90)\n",
    "# # # Assuming you need to process the data to calculate Employment percentage\n",
    "# empy['neighborhood'] = empy['neighborhood']\n",
    "\n",
    "\n",
    "# # # Create a bar plot\n",
    "# empy[['Population', 'Employment']].plot.bar(figsize=(10, 6))\n",
    "# plt.xlabel('Neighborhood')\n",
    "# plt.ylabel('Count/Parks')\n",
    "# plt.title('Population and Employment Data by Neighborhood')\n",
    "# plt.xticks(rotation=45)  # Rotate x-axis labels for better readability\n",
    "# plt.legend([\"Population\", \"Employment\"])\n",
    "# plt.tight_layout()\n",
    "# plt.show()"
   ]
  },
  {
   "cell_type": "code",
   "execution_count": 1,
   "metadata": {},
   "outputs": [
    {
     "name": "stdout",
     "output_type": "stream",
     "text": [
      "╒════╤═════════════════════╤═════════════════════╕\n",
      "│    │ Neighborhood        │   Playgrounds Count │\n",
      "╞════╪═════════════════════╪═════════════════════╡\n",
      "│  0 │ Squirrel Hill South │                   8 │\n",
      "├────┼─────────────────────┼─────────────────────┤\n",
      "│  1 │ Beechview           │                   5 │\n",
      "├────┼─────────────────────┼─────────────────────┤\n",
      "│  2 │ South Side Slopes   │                   5 │\n",
      "├────┼─────────────────────┼─────────────────────┤\n",
      "│  3 │ Highland Park       │                   4 │\n",
      "├────┼─────────────────────┼─────────────────────┤\n",
      "│  4 │ Sheraden            │                   4 │\n",
      "├────┼─────────────────────┼─────────────────────┤\n",
      "│  5 │ Beltzhoover         │                   4 │\n",
      "├────┼─────────────────────┼─────────────────────┤\n",
      "│  6 │ Allegheny Center    │                   4 │\n",
      "├────┼─────────────────────┼─────────────────────┤\n",
      "│  7 │ Carrick             │                   3 │\n",
      "├────┼─────────────────────┼─────────────────────┤\n",
      "│  8 │ Mount Washington    │                   3 │\n",
      "├────┼─────────────────────┼─────────────────────┤\n",
      "│  9 │ Elliott             │                   3 │\n",
      "├────┼─────────────────────┼─────────────────────┤\n",
      "│ 10 │ South Oakland       │                   3 │\n",
      "├────┼─────────────────────┼─────────────────────┤\n",
      "│ 11 │ Hazelwood           │                   3 │\n",
      "├────┼─────────────────────┼─────────────────────┤\n",
      "│ 12 │ Crawford-Roberts    │                   3 │\n",
      "├────┼─────────────────────┼─────────────────────┤\n",
      "│ 13 │ Upper Lawrenceville │                   3 │\n",
      "├────┼─────────────────────┼─────────────────────┤\n",
      "│ 14 │ East Liberty        │                   3 │\n",
      "├────┼─────────────────────┼─────────────────────┤\n",
      "│ 15 │ Morningside         │                   2 │\n",
      "├────┼─────────────────────┼─────────────────────┤\n",
      "│ 16 │ Lincoln Place       │                   2 │\n",
      "├────┼─────────────────────┼─────────────────────┤\n",
      "│ 17 │ Greenfield          │                   2 │\n",
      "├────┼─────────────────────┼─────────────────────┤\n",
      "│ 18 │ Garfield            │                   2 │\n",
      "├────┼─────────────────────┼─────────────────────┤\n",
      "│ 19 │ Manchester          │                   2 │\n",
      "╘════╧═════════════════════╧═════════════════════╛\n"
     ]
    }
   ],
   "source": [
    "import pandas as pd\n",
    "from tabulate import tabulate\n",
    "\n",
    "# Load your dataset (replace 'your_playground_dataset.csv' with the actual file path)\n",
    "playground_data = pd.read_csv(\"playgrounds.csv\")\n",
    "\n",
    "playgrounds_per_neighborhood = playground_data['neighborhood'].value_counts()\n",
    "\n",
    "# DataFrame for better formatting\n",
    "playgrounds_table = pd.DataFrame({'Neighborhood': playgrounds_per_neighborhood.index, 'Playgrounds Count': playgrounds_per_neighborhood.values})\n",
    "\n",
    "# Print the formatted table for the top 20 rows\n",
    "print(tabulate(playgrounds_table.head(20), headers='keys', tablefmt='fancy_grid'))\n"
   ]
  },
  {
   "cell_type": "markdown",
   "metadata": {},
   "source": [
    "# Conclusion \n",
    "Overall, the analysis of neighborhood playground distribution, as facilitated by the Pandas and Matplotlib libraries in the provided code, reveals compelling insights. By  examining the DataFrame and employing a systematic counting approach, the code produces a sorted list of neighborhoods based on their respective playground counts. The subsequent visualization through a Matplotlib-generated bar plot illustrates the top 10 neighborhoods with the highest playground counts.Upon consideration of the graph and table visual representation and the underlying data, it becomes apparent that Beechview, Squirrel Hill, and South Slopes emerge as the primary neighborhoods, boasting the most extensive and vibrant array of playgrounds. This conclusion is firmly grounded in the abundance and diversity of recreational spaces, making these neighborhoods exemplary in fostering community well-being through accessible and varied play areas."
   ]
  }
 ],
 "metadata": {
  "kernelspec": {
   "display_name": "Python 3",
   "language": "python",
   "name": "python3"
  },
  "language_info": {
   "codemirror_mode": {
    "name": "ipython",
    "version": 3
   },
   "file_extension": ".py",
   "mimetype": "text/x-python",
   "name": "python",
   "nbconvert_exporter": "python",
   "pygments_lexer": "ipython3",
   "version": "3.8.3"
  }
 },
 "nbformat": 4,
 "nbformat_minor": 4
}
